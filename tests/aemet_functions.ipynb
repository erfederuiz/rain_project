{
 "cells": [
  {
   "cell_type": "code",
   "execution_count": 128,
   "metadata": {},
   "outputs": [],
   "source": [
    "import requests\n",
    "import json\n",
    "import pandas as pd\n",
    "import numpy as np\n",
    "import re\n",
    "import math\n",
    "\n",
    "\n"
   ]
  },
  {
   "cell_type": "code",
   "execution_count": 129,
   "metadata": {},
   "outputs": [],
   "source": [
    "# Create a function to transform string values into float\n",
    "def elem_to_float(elem):\n",
    "    try:\n",
    "        return float(elem)\n",
    "    except:\n",
    "        pattern = re.compile(\"(-*)(\\d+),(\\d+)\")\n",
    "        if pattern.match(elem):\n",
    "            elem = re.sub(r'(-*)(\\d+),(\\d+)', r'\\1\\2.\\3' , elem)\n",
    "            return float(elem)\n",
    "        else:\n",
    "            return np.nan"
   ]
  },
  {
   "cell_type": "code",
   "execution_count": 130,
   "metadata": {},
   "outputs": [],
   "source": [
    "def column_fill_na(columna, valor, day, month):\n",
    "    df_mediana = df[ ( (df['month'] == month ) & (df['day'] == day ) )][columna]\n",
    "    serie_mediana = pd.Series(df_mediana)\n",
    "    if type(valor) == str:\n",
    "        return serie_mediana.median()      \n",
    "    elif math.isnan(valor):\n",
    "        return serie_mediana.median()  \n",
    "    else:\n",
    "        return valor\n"
   ]
  },
  {
   "cell_type": "code",
   "execution_count": 131,
   "metadata": {},
   "outputs": [],
   "source": [
    "def column_fill_na_mode(columna, valor, day, month):\n",
    "    df_mediana = df[ ( (df['month'] == month ) & (df['day'] == day ) )][columna]\n",
    "    serie_mediana = pd.Series(df_mediana)\n",
    "    if type(valor) == str:\n",
    "        return serie_mediana.mode()      \n",
    "    elif math.isnan(valor):\n",
    "        return serie_mediana.mode()  \n",
    "    else:\n",
    "        return valor\n"
   ]
  },
  {
   "cell_type": "code",
   "execution_count": 156,
   "metadata": {},
   "outputs": [],
   "source": [
    "# Create a function to transform string values into integer\n",
    "def hour_to_int(elem):\n",
    "\n",
    "        pattern = re.compile(\"(\\d{2}):(\\d{2})\")\n",
    "        if pattern.match(elem):\n",
    "            elem = re.sub(r'(\\d{2}):(\\d{2})', r'\\1' , elem)\n",
    "            return int(elem)\n",
    "        else:\n",
    "            return np.nan"
   ]
  },
  {
   "cell_type": "code",
   "execution_count": 160,
   "metadata": {},
   "outputs": [
    {
     "name": "stdout",
     "output_type": "stream",
     "text": [
      "nan\n"
     ]
    }
   ],
   "source": [
    "test = \"1:01\"\n",
    "print(elem_to_float(test))"
   ]
  },
  {
   "cell_type": "code",
   "execution_count": 155,
   "metadata": {},
   "outputs": [],
   "source": [
    "df['fecha'] = pd.to_datetime(df['fecha'])\n",
    "df['year'] = df['fecha'].dt.year\n",
    "df['month'] = df['fecha'].dt.month\n",
    "df['day'] = df['fecha'].dt.day"
   ]
  }
 ],
 "metadata": {
  "kernelspec": {
   "display_name": "Python 3 (ipykernel)",
   "language": "python",
   "name": "python3"
  },
  "language_info": {
   "codemirror_mode": {
    "name": "ipython",
    "version": 3
   },
   "file_extension": ".py",
   "mimetype": "text/x-python",
   "name": "python",
   "nbconvert_exporter": "python",
   "pygments_lexer": "ipython3",
   "version": "3.7.11"
  },
  "orig_nbformat": 4
 },
 "nbformat": 4,
 "nbformat_minor": 2
}
